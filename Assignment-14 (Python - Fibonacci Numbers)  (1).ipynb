{
 "cells": [
  {
   "cell_type": "code",
   "execution_count": 6,
   "id": "461ff3c6",
   "metadata": {},
   "outputs": [
    {
     "name": "stdout",
     "output_type": "stream",
     "text": [
      "[1, 1, 2, 3, 5, 8, 13, 21, 34, 55]\n"
     ]
    }
   ],
   "source": [
    "fibonacci = []\n",
    "\n",
    "for n in range(2):\n",
    "    if len(fibonacci) == 0:\n",
    "        fibonacci.append(1)\n",
    "    elif len(fibonacci) == 1:\n",
    "        fibonacci.append(1)\n",
    "        if len(fibonacci) > 1:\n",
    "            for i in range(8):\n",
    "                a = fibonacci[i] + fibonacci[i+1]\n",
    "                fibonacci.append(a)\n",
    "        \n",
    "print(fibonacci)"
   ]
  },
  {
   "cell_type": "code",
   "execution_count": 2,
   "id": "267de83a",
   "metadata": {},
   "outputs": [
    {
     "name": "stdout",
     "output_type": "stream",
     "text": [
      "[1, 1, 2, 3, 5, 8, 13, 21, 34, 55]\n"
     ]
    }
   ],
   "source": [
    "fibonacci_num = [1, 1]\n",
    "\n",
    "\n",
    "\n",
    "for i in range(1,9):\n",
    "\n",
    "    n = fibonacci_num[i-1] + fibonacci_num[i]\n",
    "\n",
    "    fibonacci_num.append(n)\n",
    "\n",
    "    \n",
    "\n",
    "print(fibonacci_num)"
   ]
  }
 ],
 "metadata": {
  "kernelspec": {
   "display_name": "Python 3 (ipykernel)",
   "language": "python",
   "name": "python3"
  },
  "language_info": {
   "codemirror_mode": {
    "name": "ipython",
    "version": 3
   },
   "file_extension": ".py",
   "mimetype": "text/x-python",
   "name": "python",
   "nbconvert_exporter": "python",
   "pygments_lexer": "ipython3",
   "version": "3.9.12"
  }
 },
 "nbformat": 4,
 "nbformat_minor": 5
}
